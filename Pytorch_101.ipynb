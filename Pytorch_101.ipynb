{
  "nbformat": 4,
  "nbformat_minor": 0,
  "metadata": {
    "colab": {
      "provenance": [],
      "authorship_tag": "ABX9TyMcCk8J30Urph8n88LTuO2s",
      "include_colab_link": true
    },
    "kernelspec": {
      "name": "python3",
      "display_name": "Python 3"
    },
    "language_info": {
      "name": "python"
    }
  },
  "cells": [
    {
      "cell_type": "markdown",
      "metadata": {
        "id": "view-in-github",
        "colab_type": "text"
      },
      "source": [
        "<a href=\"https://colab.research.google.com/github/ZYD-9/Learn_Pytorch/blob/main/Pytorch_101.ipynb\" target=\"_parent\"><img src=\"https://colab.research.google.com/assets/colab-badge.svg\" alt=\"Open In Colab\"/></a>"
      ]
    },
    {
      "cell_type": "code",
      "execution_count": null,
      "metadata": {
        "id": "OkfV3y6sL9pi"
      },
      "outputs": [],
      "source": [
        "import torch\n",
        "import numpy as np"
      ]
    },
    {
      "cell_type": "markdown",
      "source": [
        " **Tensors**\n",
        "\n",
        " Tensors are a specialized data structure that are very similar to arrays and matrices. In PyTorch, we use tensors to encode the inputs and outputs of a model, as well as the model’s parameters,tensors can run on GPUs or other hardware accelerators.\n",
        "\n",
        "from: Pytorch Documentation"
      ],
      "metadata": {
        "id": "JYDrXlH7SW6O"
      }
    },
    {
      "cell_type": "code",
      "source": [
        "data = [[1,2,5],[3,4,7],[5,6,9]]\n",
        "tensored_data = torch.tensor(data)\n",
        "print(tensored_data)"
      ],
      "metadata": {
        "colab": {
          "base_uri": "https://localhost:8080/"
        },
        "id": "Qalt6qBqMPvb",
        "outputId": "a564b4d4-af67-40c0-d6ff-e7949db9e5c3"
      },
      "execution_count": null,
      "outputs": [
        {
          "output_type": "stream",
          "name": "stdout",
          "text": [
            "tensor([[1, 2, 5],\n",
            "        [3, 4, 7],\n",
            "        [5, 6, 9]])\n"
          ]
        }
      ]
    },
    {
      "cell_type": "code",
      "source": [
        "np_array = np.array(data)\n",
        "x_data = torch.from_numpy(np_array)\n",
        "print(x_data)"
      ],
      "metadata": {
        "colab": {
          "base_uri": "https://localhost:8080/"
        },
        "id": "B0_IkV8yM4i-",
        "outputId": "caab42d3-12c3-42ed-870a-72276e6a313e"
      },
      "execution_count": null,
      "outputs": [
        {
          "output_type": "stream",
          "name": "stdout",
          "text": [
            "tensor([[1, 2, 5],\n",
            "        [3, 4, 7],\n",
            "        [5, 6, 9]])\n"
          ]
        }
      ]
    },
    {
      "cell_type": "markdown",
      "source": [
        "New tensor will retain the properties of the data these properties are its shape and datatype, however it can changed if overridden.\n",
        " The 'torch.ones_like' code Returns a tensor filled with the scalar value 1 , with the same size as input ."
      ],
      "metadata": {
        "id": "ZXXXPBRYOH2c"
      }
    },
    {
      "cell_type": "code",
      "source": [
        "data_ones = torch.ones_like(tensored_data)\n",
        "print(data_ones)"
      ],
      "metadata": {
        "colab": {
          "base_uri": "https://localhost:8080/"
        },
        "id": "cmbO3KeHQpTq",
        "outputId": "9a2579bf-2af1-44d8-8125-14ce49ab6c5f"
      },
      "execution_count": null,
      "outputs": [
        {
          "output_type": "stream",
          "name": "stdout",
          "text": [
            "tensor([[1, 1, 1],\n",
            "        [1, 1, 1],\n",
            "        [1, 1, 1]])\n"
          ]
        }
      ]
    },
    {
      "cell_type": "markdown",
      "source": [
        "The code 'torch.rand_like Returns a tensor with the same size as input that is filled with random numbers from a uniform distribution on the interval [ 0 , 1 ) [0, 1) [0,1)."
      ],
      "metadata": {
        "id": "x2b5mSUURWpi"
      }
    },
    {
      "cell_type": "code",
      "source": [
        "data_rand = torch.rand_like(tensored_data, dtype = torch.float) # overrides the original data from int to float\n",
        "print(data_rand)"
      ],
      "metadata": {
        "colab": {
          "base_uri": "https://localhost:8080/"
        },
        "id": "kkvqo9j0Rl2_",
        "outputId": "eec28b69-32cc-4938-9d50-14a2831110f0"
      },
      "execution_count": null,
      "outputs": [
        {
          "output_type": "stream",
          "name": "stdout",
          "text": [
            "tensor([[0.3589, 0.6101, 0.0071],\n",
            "        [0.5886, 0.5712, 0.0842],\n",
            "        [0.7981, 0.3883, 0.0312]])\n"
          ]
        }
      ]
    },
    {
      "cell_type": "markdown",
      "source": [
        "torch.rand() is used to create a tensor with the random values from the uniform distribution that lies between the interval [0,1)"
      ],
      "metadata": {
        "id": "g_pC6XW9TN8u"
      }
    },
    {
      "cell_type": "code",
      "source": [
        "data_shape = (3,3)\n",
        "ones_tensor = torch.ones(data_shape)\n",
        "rand_tensor = torch.rand(data_shape)\n",
        "zero_tensor = torch.zeros(data_shape)\n",
        "\n",
        "print(ones_tensor)\n",
        "print(rand_tensor)\n",
        "print(zero_tensor)"
      ],
      "metadata": {
        "colab": {
          "base_uri": "https://localhost:8080/"
        },
        "id": "_89NRzF8S30m",
        "outputId": "db28d8df-1593-4ec5-d401-742c15a1a3a2"
      },
      "execution_count": null,
      "outputs": [
        {
          "output_type": "stream",
          "name": "stdout",
          "text": [
            "tensor([[1., 1., 1.],\n",
            "        [1., 1., 1.],\n",
            "        [1., 1., 1.]])\n",
            "tensor([[0.0015, 0.7659, 0.5715],\n",
            "        [0.8596, 0.4996, 0.9857],\n",
            "        [0.2339, 0.1010, 0.6724]])\n",
            "tensor([[0., 0., 0.],\n",
            "        [0., 0., 0.],\n",
            "        [0., 0., 0.]])\n"
          ]
        }
      ]
    }
  ]
}